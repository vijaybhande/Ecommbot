{
 "cells": [
  {
   "cell_type": "code",
   "execution_count": 2,
   "metadata": {},
   "outputs": [
    {
     "name": "stdout",
     "output_type": "stream",
     "text": [
      "['c:\\\\Users\\\\vijay.bhande\\\\emcommbotv2\\\\env\\\\python310.zip', 'c:\\\\Users\\\\vijay.bhande\\\\emcommbotv2\\\\env\\\\DLLs', 'c:\\\\Users\\\\vijay.bhande\\\\emcommbotv2\\\\env\\\\lib', 'c:\\\\Users\\\\vijay.bhande\\\\emcommbotv2\\\\env', '', 'c:\\\\Users\\\\vijay.bhande\\\\emcommbotv2\\\\env\\\\lib\\\\site-packages', 'c:\\\\Users\\\\vijay.bhande\\\\emcommbotv2\\\\env\\\\lib\\\\site-packages\\\\win32', 'c:\\\\Users\\\\vijay.bhande\\\\emcommbotv2\\\\env\\\\lib\\\\site-packages\\\\win32\\\\lib', 'c:\\\\Users\\\\vijay.bhande\\\\emcommbotv2\\\\env\\\\lib\\\\site-packages\\\\Pythonwin']\n"
     ]
    }
   ],
   "source": [
    "import sys\n",
    "print(sys.path)"
   ]
  }
 ],
 "metadata": {
  "kernelspec": {
   "display_name": "Python 3",
   "language": "python",
   "name": "python3"
  },
  "language_info": {
   "codemirror_mode": {
    "name": "ipython",
    "version": 3
   },
   "file_extension": ".py",
   "mimetype": "text/x-python",
   "name": "python",
   "nbconvert_exporter": "python",
   "pygments_lexer": "ipython3",
   "version": "3.10.14"
  }
 },
 "nbformat": 4,
 "nbformat_minor": 2
}
